{
  "nbformat": 4,
  "nbformat_minor": 0,
  "metadata": {
    "colab": {
      "name": "df1_pandas.ipynb",
      "provenance": [],
      "mount_file_id": "18iRw9PHkvvymzR3c5HVQIT-esHOSE0sU",
      "authorship_tag": "ABX9TyMGSjZ9QE5+X8EhpOw5ZAPC",
      "include_colab_link": true
    },
    "kernelspec": {
      "name": "python3",
      "display_name": "Python 3"
    },
    "language_info": {
      "name": "python"
    }
  },
  "cells": [
    {
      "cell_type": "markdown",
      "metadata": {
        "id": "view-in-github",
        "colab_type": "text"
      },
      "source": [
        "<a href=\"https://colab.research.google.com/github/sofiabulhoes/grupo10/blob/main/df1_pandas.ipynb\" target=\"_parent\"><img src=\"https://colab.research.google.com/assets/colab-badge.svg\" alt=\"Open In Colab\"/></a>"
      ]
    },
    {
      "cell_type": "code",
      "metadata": {
        "id": "dKZeJaGNqcQW"
      },
      "source": [
        "pip install gcsfs"
      ],
      "execution_count": null,
      "outputs": []
    },
    {
      "cell_type": "code",
      "metadata": {
        "id": "RslhN7X9qlec"
      },
      "source": [
        "import os"
      ],
      "execution_count": 3,
      "outputs": []
    },
    {
      "cell_type": "markdown",
      "metadata": {
        "id": "f4HHRw3xJ0C1"
      },
      "source": [
        "**Importando a chave do Google Cloud**"
      ]
    },
    {
      "cell_type": "code",
      "metadata": {
        "id": "3K5-Bsi5qpaG"
      },
      "source": [
        "service_account_key = r\"/content/chaveprogrupo10-332518-4db3212adcd1.json\"\n",
        "\n",
        "os.environ[\"GOOGLE_APPLICATION_CREDENTIALS\"] = service_account_key"
      ],
      "execution_count": 25,
      "outputs": []
    },
    {
      "cell_type": "code",
      "metadata": {
        "id": "9bcfZPaYq1Fh"
      },
      "source": [
        "import pandas as pd\n",
        "from google.cloud import storage"
      ],
      "execution_count": 26,
      "outputs": []
    },
    {
      "cell_type": "markdown",
      "metadata": {
        "id": "U7qv_wlFJ6vB"
      },
      "source": [
        "**Definindo o dataset em exel**"
      ]
    },
    {
      "cell_type": "code",
      "metadata": {
        "id": "QY0fchhSq3jD"
      },
      "source": [
        "df1 = pd.read_excel('gs://bucket-projeto-g10/entrada/Base_ConsumoAN.xlsx')"
      ],
      "execution_count": 27,
      "outputs": []
    },
    {
      "cell_type": "markdown",
      "metadata": {
        "id": "JDtCUHYXKDE-"
      },
      "source": [
        "**Vendo os dados nulos de cada coluna**"
      ]
    },
    {
      "cell_type": "code",
      "metadata": {
        "colab": {
          "base_uri": "https://localhost:8080/"
        },
        "id": "v8w6KnygrEEg",
        "outputId": "e6f9ad10-da2e-4150-ccb1-ade79216e98e"
      },
      "source": [
        "df1.isnull().sum()"
      ],
      "execution_count": 46,
      "outputs": [
        {
          "output_type": "execute_result",
          "data": {
            "text/plain": [
              "Ano          0\n",
              "Mes          0\n",
              "MesRef       0\n",
              "Pais         0\n",
              "Bebida       0\n",
              "Galoes       0\n",
              "Etanol       0\n",
              "Populacao    0\n",
              "PerCapita    0\n",
              "dtype: int64"
            ]
          },
          "metadata": {},
          "execution_count": 46
        }
      ]
    },
    {
      "cell_type": "markdown",
      "metadata": {
        "id": "lLHkMO-oKH5n"
      },
      "source": [
        "**Criando um backup da dataframe**"
      ]
    },
    {
      "cell_type": "code",
      "metadata": {
        "id": "pqB5jzo2sWTx"
      },
      "source": [
        "dfback = df1.copy()"
      ],
      "execution_count": 29,
      "outputs": []
    },
    {
      "cell_type": "code",
      "metadata": {
        "id": "nHGO9OgnsYuX"
      },
      "source": [
        "pip install pandera"
      ],
      "execution_count": null,
      "outputs": []
    },
    {
      "cell_type": "code",
      "metadata": {
        "id": "ye-YiUvGsoZh"
      },
      "source": [
        "import pandera as pa"
      ],
      "execution_count": 31,
      "outputs": []
    },
    {
      "cell_type": "markdown",
      "metadata": {
        "id": "6V0dgbrJKMcY"
      },
      "source": [
        "**Dando drop em colunas com grande quantidade de arquivos nulos**"
      ]
    },
    {
      "cell_type": "code",
      "metadata": {
        "id": "IUxe35P3uay0"
      },
      "source": [
        "df1.drop('PerCapita3yr', axis=1, inplace=True)\n",
        "df1.drop('PctChange', axis=1, inplace=True)"
      ],
      "execution_count": 32,
      "outputs": []
    },
    {
      "cell_type": "markdown",
      "metadata": {
        "id": "NEeKbKLIKTrD"
      },
      "source": [
        "**Dando drop em linhas nulas**"
      ]
    },
    {
      "cell_type": "code",
      "metadata": {
        "id": "bujYwvzTurg-"
      },
      "source": [
        "df1.dropna(axis=0, inplace = True)"
      ],
      "execution_count": 33,
      "outputs": []
    },
    {
      "cell_type": "markdown",
      "metadata": {
        "id": "yJ4q1OzWKY8b"
      },
      "source": [
        "**Renomenado as colunas com a tradução**"
      ]
    },
    {
      "cell_type": "code",
      "metadata": {
        "id": "4pdlc6AXu2JO"
      },
      "source": [
        "df1.rename(columns={'Year': 'Ano','Month': 'Mes', 'Beverage': 'Bebida', 'Gallons':'Galoes', 'Ethanol': 'Etanol' , 'Population': 'Populacao', 'FIPS': 'Pais'}, inplace=True)"
      ],
      "execution_count": 34,
      "outputs": []
    },
    {
      "cell_type": "code",
      "metadata": {
        "colab": {
          "base_uri": "https://localhost:8080/",
          "height": 423
        },
        "id": "UO-EIFVS0dQ0",
        "outputId": "15c56dff-cd98-47c3-8ab7-1cf7fcadbd32"
      },
      "source": [
        "df1"
      ],
      "execution_count": 36,
      "outputs": [
        {
          "output_type": "execute_result",
          "data": {
            "text/html": [
              "<div>\n",
              "<style scoped>\n",
              "    .dataframe tbody tr th:only-of-type {\n",
              "        vertical-align: middle;\n",
              "    }\n",
              "\n",
              "    .dataframe tbody tr th {\n",
              "        vertical-align: top;\n",
              "    }\n",
              "\n",
              "    .dataframe thead th {\n",
              "        text-align: right;\n",
              "    }\n",
              "</style>\n",
              "<table border=\"1\" class=\"dataframe\">\n",
              "  <thead>\n",
              "    <tr style=\"text-align: right;\">\n",
              "      <th></th>\n",
              "      <th>Ano</th>\n",
              "      <th>Mes</th>\n",
              "      <th>MesRef</th>\n",
              "      <th>Pais</th>\n",
              "      <th>Bebida</th>\n",
              "      <th>Galoes</th>\n",
              "      <th>Etanol</th>\n",
              "      <th>Populacao</th>\n",
              "      <th>PerCapita</th>\n",
              "    </tr>\n",
              "  </thead>\n",
              "  <tbody>\n",
              "    <tr>\n",
              "      <th>0</th>\n",
              "      <td>2017</td>\n",
              "      <td>1</td>\n",
              "      <td>12017</td>\n",
              "      <td>2</td>\n",
              "      <td>1</td>\n",
              "      <td>103645.0</td>\n",
              "      <td>42598</td>\n",
              "      <td>593378</td>\n",
              "      <td>0.0718</td>\n",
              "    </tr>\n",
              "    <tr>\n",
              "      <th>1</th>\n",
              "      <td>2017</td>\n",
              "      <td>1</td>\n",
              "      <td>12017</td>\n",
              "      <td>8</td>\n",
              "      <td>1</td>\n",
              "      <td>733857.0</td>\n",
              "      <td>301615</td>\n",
              "      <td>4634346</td>\n",
              "      <td>0.0651</td>\n",
              "    </tr>\n",
              "    <tr>\n",
              "      <th>2</th>\n",
              "      <td>2017</td>\n",
              "      <td>1</td>\n",
              "      <td>12017</td>\n",
              "      <td>9</td>\n",
              "      <td>1</td>\n",
              "      <td>412100.0</td>\n",
              "      <td>169373</td>\n",
              "      <td>3015481</td>\n",
              "      <td>0.0562</td>\n",
              "    </tr>\n",
              "    <tr>\n",
              "      <th>3</th>\n",
              "      <td>2017</td>\n",
              "      <td>1</td>\n",
              "      <td>12017</td>\n",
              "      <td>10</td>\n",
              "      <td>1</td>\n",
              "      <td>180388.0</td>\n",
              "      <td>74139</td>\n",
              "      <td>799550</td>\n",
              "      <td>0.0927</td>\n",
              "    </tr>\n",
              "    <tr>\n",
              "      <th>4</th>\n",
              "      <td>2017</td>\n",
              "      <td>1</td>\n",
              "      <td>12017</td>\n",
              "      <td>12</td>\n",
              "      <td>1</td>\n",
              "      <td>2770686.0</td>\n",
              "      <td>1138752</td>\n",
              "      <td>17722275</td>\n",
              "      <td>0.0643</td>\n",
              "    </tr>\n",
              "    <tr>\n",
              "      <th>...</th>\n",
              "      <td>...</td>\n",
              "      <td>...</td>\n",
              "      <td>...</td>\n",
              "      <td>...</td>\n",
              "      <td>...</td>\n",
              "      <td>...</td>\n",
              "      <td>...</td>\n",
              "      <td>...</td>\n",
              "      <td>...</td>\n",
              "    </tr>\n",
              "    <tr>\n",
              "      <th>2582</th>\n",
              "      <td>2021</td>\n",
              "      <td>2</td>\n",
              "      <td>22021</td>\n",
              "      <td>27</td>\n",
              "      <td>3</td>\n",
              "      <td>8764953.0</td>\n",
              "      <td>394423</td>\n",
              "      <td>4629348</td>\n",
              "      <td>0.0852</td>\n",
              "    </tr>\n",
              "    <tr>\n",
              "      <th>2583</th>\n",
              "      <td>2021</td>\n",
              "      <td>2</td>\n",
              "      <td>22021</td>\n",
              "      <td>29</td>\n",
              "      <td>3</td>\n",
              "      <td>8413292.0</td>\n",
              "      <td>378598</td>\n",
              "      <td>5077875</td>\n",
              "      <td>0.0746</td>\n",
              "    </tr>\n",
              "    <tr>\n",
              "      <th>2584</th>\n",
              "      <td>2021</td>\n",
              "      <td>2</td>\n",
              "      <td>22021</td>\n",
              "      <td>38</td>\n",
              "      <td>3</td>\n",
              "      <td>1575937.0</td>\n",
              "      <td>70917</td>\n",
              "      <td>617880</td>\n",
              "      <td>0.1148</td>\n",
              "    </tr>\n",
              "    <tr>\n",
              "      <th>2585</th>\n",
              "      <td>2021</td>\n",
              "      <td>2</td>\n",
              "      <td>22021</td>\n",
              "      <td>47</td>\n",
              "      <td>3</td>\n",
              "      <td>9774658.0</td>\n",
              "      <td>439860</td>\n",
              "      <td>5661532</td>\n",
              "      <td>0.0777</td>\n",
              "    </tr>\n",
              "    <tr>\n",
              "      <th>2586</th>\n",
              "      <td>2021</td>\n",
              "      <td>2</td>\n",
              "      <td>22021</td>\n",
              "      <td>48</td>\n",
              "      <td>3</td>\n",
              "      <td>40234140.0</td>\n",
              "      <td>1810536</td>\n",
              "      <td>23257363</td>\n",
              "      <td>0.0778</td>\n",
              "    </tr>\n",
              "  </tbody>\n",
              "</table>\n",
              "<p>1950 rows × 9 columns</p>\n",
              "</div>"
            ],
            "text/plain": [
              "       Ano  Mes  MesRef  Pais  ...      Galoes   Etanol  Populacao  PerCapita\n",
              "0     2017    1   12017     2  ...    103645.0    42598     593378     0.0718\n",
              "1     2017    1   12017     8  ...    733857.0   301615    4634346     0.0651\n",
              "2     2017    1   12017     9  ...    412100.0   169373    3015481     0.0562\n",
              "3     2017    1   12017    10  ...    180388.0    74139     799550     0.0927\n",
              "4     2017    1   12017    12  ...   2770686.0  1138752   17722275     0.0643\n",
              "...    ...  ...     ...   ...  ...         ...      ...        ...        ...\n",
              "2582  2021    2   22021    27  ...   8764953.0   394423    4629348     0.0852\n",
              "2583  2021    2   22021    29  ...   8413292.0   378598    5077875     0.0746\n",
              "2584  2021    2   22021    38  ...   1575937.0    70917     617880     0.1148\n",
              "2585  2021    2   22021    47  ...   9774658.0   439860    5661532     0.0777\n",
              "2586  2021    2   22021    48  ...  40234140.0  1810536   23257363     0.0778\n",
              "\n",
              "[1950 rows x 9 columns]"
            ]
          },
          "metadata": {},
          "execution_count": 36
        }
      ]
    },
    {
      "cell_type": "markdown",
      "metadata": {
        "id": "sRT3Gd5dM6zd"
      },
      "source": [
        "**Alterando os dados da coluna 'Pais', alterando os numeros pelos nomes dos estados**"
      ]
    },
    {
      "cell_type": "code",
      "metadata": {
        "id": "CLCX622rekGH"
      },
      "source": [
        "df1['Pais'].replace(2, 'Alaska', inplace=True)\n",
        "df1['Pais'].replace(8, 'Colorado', inplace=True)\n",
        "df1['Pais'].replace(9, 'Connecticut', inplace=True)\n",
        "df1['Pais'].replace(10, 'Delaware', inplace=True)\n",
        "df1['Pais'].replace(12, 'Florida', inplace=True)\n",
        "df1['Pais'].replace(17, 'Illinois', inplace=True)\n",
        "df1['Pais'].replace(21, 'Kentucky', inplace=True)\n",
        "df1['Pais'].replace(25, 'Massachusetts', inplace=True)\n",
        "df1['Pais'].replace(27, 'Minnesota', inplace=True)\n",
        "df1['Pais'].replace(29, 'Missouri', inplace=True)\n",
        "df1['Pais'].replace(38, 'Dakota do Norte', inplace=True)\n",
        "df1['Pais'].replace(47, 'Tennessee', inplace=True)\n",
        "df1['Pais'].replace(48, 'Texas', inplace=True)\n"
      ],
      "execution_count": 39,
      "outputs": []
    },
    {
      "cell_type": "code",
      "metadata": {
        "colab": {
          "base_uri": "https://localhost:8080/"
        },
        "id": "aQbiwa5fNFny",
        "outputId": "c7fe3f63-0f5f-4745-ef49-f581b4c9ac9a"
      },
      "source": [
        "#Verificando se todos os dados da coluna 'Pais' foram alterados\n",
        "df1['Pais'].unique()"
      ],
      "execution_count": 41,
      "outputs": [
        {
          "output_type": "execute_result",
          "data": {
            "text/plain": [
              "array(['Alaska', 'Colorado', 'Connecticut', 'Delaware', 'Florida',\n",
              "       'Illinois', 'Kentucky', 'Massachusetts', 'Minnesota', 'Missouri',\n",
              "       'Dakota do Norte', 'Tennessee', 'Texas'], dtype=object)"
            ]
          },
          "metadata": {},
          "execution_count": 41
        }
      ]
    },
    {
      "cell_type": "markdown",
      "metadata": {
        "id": "qpxL4dN9NYeT"
      },
      "source": [
        "**Alterando os dados da coluna 'Bebidas', alterando os numeros pelos nomes das bebidas**"
      ]
    },
    {
      "cell_type": "code",
      "metadata": {
        "id": "nlfhNfh9NQob"
      },
      "source": [
        "df1['Bebida'].replace(1, 'Destilado', inplace=True)\n",
        "df1['Bebida'].replace(2, 'Vinho', inplace=True)\n",
        "df1['Bebida'].replace(3, 'Cerveja', inplace=True)\n",
        "df1['Bebida'].replace(4, 'Todos', inplace=True)"
      ],
      "execution_count": 42,
      "outputs": []
    },
    {
      "cell_type": "code",
      "metadata": {
        "colab": {
          "base_uri": "https://localhost:8080/"
        },
        "id": "PfoAPZMrN4rc",
        "outputId": "70e9fd39-bcab-42e0-af7f-df5b09d5ddd6"
      },
      "source": [
        "#Verificando se todos os dados da coluna 'Bebida' foram alterados\n",
        "df1['Bebida'].unique()"
      ],
      "execution_count": 44,
      "outputs": [
        {
          "output_type": "execute_result",
          "data": {
            "text/plain": [
              "array(['Destilado', 'Vinho', 'Cerveja'], dtype=object)"
            ]
          },
          "metadata": {},
          "execution_count": 44
        }
      ]
    },
    {
      "cell_type": "code",
      "metadata": {
        "id": "_HTY3jZ4OKLp"
      },
      "source": [
        "df1.to_csv('/content/drive/MyDrive/EngDADOS/Projeto/df1_pandas.csv', index=False)"
      ],
      "execution_count": 45,
      "outputs": []
    }
  ]
}